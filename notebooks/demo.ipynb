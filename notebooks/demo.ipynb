{
 "cells": [
  {
   "cell_type": "code",
   "execution_count": 1,
   "metadata": {},
   "outputs": [],
   "source": [
    "from pyspark.sql import SparkSession, SQLContext, DataFrame"
   ]
  },
  {
   "cell_type": "code",
   "execution_count": 2,
   "metadata": {},
   "outputs": [],
   "source": [
    "spark = SparkSession.builder.master(\"spark://master:7077\") \\\n",
    "    .appName('demo') \\\n",
    "    .config(\"spark.jars\", \"/tsi/target/scala-2.12/tsi_2.12-0.1.0.jar\") \\\n",
    "    .getOrCreate()\n",
    "sc = spark.sparkContext"
   ]
  },
  {
   "cell_type": "code",
   "execution_count": 3,
   "metadata": {},
   "outputs": [],
   "source": [
    "from py4j.java_gateway import java_import\n",
    "java_import(sc._gateway.jvm,\"com.microsoft.tsi.*\")\n",
    "connector = sc._gateway.jvm.Connector()"
   ]
  },
  {
   "cell_type": "code",
   "execution_count": 4,
   "metadata": {},
   "outputs": [
    {
     "name": "stdout",
     "output_type": "stream",
     "text": [
      "+-----+---------+------------------+\n",
      "|ts_id|timestamp|              temp|\n",
      "+-----+---------+------------------+\n",
      "|my_id|        0| 42.31817523237933|\n",
      "|my_id|        1| 42.37323232676122|\n",
      "|my_id|        2| 42.44419551453773|\n",
      "|my_id|        3|  42.5980088303805|\n",
      "|my_id|        4| 42.19531801270925|\n",
      "|my_id|        5|42.016873381161275|\n",
      "|my_id|        6|41.554485239058316|\n",
      "|my_id|        7| 41.91630281828341|\n",
      "|my_id|        8| 42.35497847487005|\n",
      "|my_id|        9|42.694280060647365|\n",
      "|my_id|       10| 42.92108517415602|\n",
      "|my_id|       11|42.740909376638164|\n",
      "|my_id|       12| 42.96242648078587|\n",
      "|my_id|       13|42.912663657939596|\n",
      "|my_id|       14| 42.43081973407757|\n",
      "|my_id|       15| 42.18987803957838|\n",
      "|my_id|       16| 42.59992603211502|\n",
      "|my_id|       17|42.521245664400695|\n",
      "|my_id|       18| 42.31417255904684|\n",
      "|my_id|       19| 42.68792338857269|\n",
      "+-----+---------+------------------+\n",
      "only showing top 20 rows\n",
      "\n"
     ]
    }
   ],
   "source": [
    "jdf = connector.getDataFrame(spark._jsparkSession)\n",
    "df = DataFrame(jdf, SQLContext(sc))\n",
    "df.show()"
   ]
  },
  {
   "cell_type": "code",
   "execution_count": 6,
   "metadata": {},
   "outputs": [
    {
     "data": {
      "image/png": "[encoded data removed]",
      "text/plain": [
       "<Figure size 432x288 with 1 Axes>"
      ]
     },
     "metadata": {
      "needs_background": "light"
     },
     "output_type": "display_data"
    }
   ],
   "source": [
    "pdf = df.toPandas()\n",
    "import matplotlib.pyplot as plt\n",
    "_ = plt.plot(pdf['timestamp'], pdf['temp'])"
   ]
  },
  {
   "cell_type": "code",
   "execution_count": null,
   "metadata": {},
   "outputs": [],
   "source": []
  }
 ],
 "metadata": {
  "kernelspec": {
   "display_name": "Python 3",
   "language": "python",
   "name": "python3"
  },
  "language_info": {
   "codemirror_mode": {
    "name": "ipython",
    "version": 3
   },
   "file_extension": ".py",
   "mimetype": "text/x-python",
   "name": "python",
   "nbconvert_exporter": "python",
   "pygments_lexer": "ipython3",
   "version": "3.7.3"
  }
 },
 "nbformat": 4,
 "nbformat_minor": 4
}
