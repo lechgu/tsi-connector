{
 "cells": [
  {
   "cell_type": "code",
   "execution_count": 1,
   "metadata": {},
   "outputs": [],
   "source": [
    "from pyspark.sql import SparkSession, SQLContext, DataFrame"
   ]
  },
  {
   "cell_type": "code",
   "execution_count": 2,
   "metadata": {},
   "outputs": [],
   "source": [
    "spark = SparkSession.builder.master(\"spark://master:7077\") \\\n",
    "    .appName('demo') \\\n",
    "    .config(\"spark.jars\", \"/tsi/target/scala-2.12/tsi_2.12-0.1.0.jar\") \\\n",
    "    .getOrCreate()\n",
    "sc = spark.sparkContext"
   ]
  },
  {
   "cell_type": "code",
   "execution_count": 3,
   "metadata": {},
   "outputs": [],
   "source": [
    "from py4j.java_gateway import java_import\n",
    "java_import(sc._gateway.jvm,\"com.microsoft.tsi.*\")\n",
    "connector = sc._gateway.jvm.Connector()"
   ]
  },
  {
   "cell_type": "code",
   "execution_count": 4,
   "metadata": {},
   "outputs": [
    {
     "name": "stdout",
     "output_type": "stream",
     "text": [
      "+-----+---------+------------------+\n",
      "|ts_id|timestamp|              temp|\n",
      "+-----+---------+------------------+\n",
      "|my_id|        0| 41.58396310415741|\n",
      "|my_id|        1| 42.05680057540868|\n",
      "|my_id|        2|  42.3642805527162|\n",
      "|my_id|        3| 42.74057029990442|\n",
      "|my_id|        4|  42.4513764225786|\n",
      "|my_id|        5| 42.27967211226101|\n",
      "|my_id|        6| 42.59418043963504|\n",
      "|my_id|        7| 42.33008478977894|\n",
      "|my_id|        8| 41.94677521606336|\n",
      "|my_id|        9| 42.44328338549969|\n",
      "|my_id|       10| 42.41895090404937|\n",
      "|my_id|       11| 42.81162695599256|\n",
      "|my_id|       12|42.829449499499546|\n",
      "|my_id|       13| 43.02154968489285|\n",
      "|my_id|       14| 43.03899552029519|\n",
      "|my_id|       15| 43.21490570003236|\n",
      "|my_id|       16|42.934010344315986|\n",
      "|my_id|       17| 43.03701545321711|\n",
      "|my_id|       18|43.028443718402386|\n",
      "|my_id|       19| 43.01933469444577|\n",
      "+-----+---------+------------------+\n",
      "only showing top 20 rows\n",
      "\n"
     ]
    }
   ],
   "source": [
    "jdf = connector.getDataFrame(spark._jsparkSession)\n",
    "df = DataFrame(jdf, SQLContext(sc))\n",
    "df.show()"
   ]
  },
  {
   "cell_type": "code",
   "execution_count": 5,
   "metadata": {},
   "outputs": [
    {
     "data": {
      "image/png": "[encoded data removed]",
      "text/plain": [
       "<Figure size 432x288 with 1 Axes>"
      ]
     },
     "metadata": {
      "needs_background": "light"
     },
     "output_type": "display_data"
    }
   ],
   "source": [
    "pdf = df.toPandas()\n",
    "import matplotlib.pyplot as plt\n",
    "_ = plt.plot(pdf['timestamp'], pdf['temp'])"
   ]
  },
  {
   "cell_type": "code",
   "execution_count": null,
   "metadata": {},
   "outputs": [],
   "source": []
  }
 ],
 "metadata": {
  "kernelspec": {
   "display_name": "Python 3",
   "language": "python",
   "name": "python3"
  },
  "language_info": {
   "codemirror_mode": {
    "name": "ipython",
    "version": 3
   },
   "file_extension": ".py",
   "mimetype": "text/x-python",
   "name": "python",
   "nbconvert_exporter": "python",
   "pygments_lexer": "ipython3",
   "version": "3.7.3"
  }
 },
 "nbformat": 4,
 "nbformat_minor": 4
}
